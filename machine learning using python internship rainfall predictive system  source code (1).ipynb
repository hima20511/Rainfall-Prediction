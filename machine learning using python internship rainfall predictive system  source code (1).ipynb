{
 "cells": [
  {
   "cell_type": "code",
   "execution_count": 1,
   "id": "c68352d6",
   "metadata": {},
   "outputs": [],
   "source": [
    "#Import the libraries and read the dataset\n",
    "import numpy as np\n",
    "import pandas as pd\n",
    "import matplotlib.pyplot as plt\n",
    "\n"
   ]
  },
  {
   "cell_type": "code",
   "execution_count": 2,
   "id": "73089dfc",
   "metadata": {},
   "outputs": [
    {
     "data": {
      "text/html": [
       "<div>\n",
       "<style scoped>\n",
       "    .dataframe tbody tr th:only-of-type {\n",
       "        vertical-align: middle;\n",
       "    }\n",
       "\n",
       "    .dataframe tbody tr th {\n",
       "        vertical-align: top;\n",
       "    }\n",
       "\n",
       "    .dataframe thead th {\n",
       "        text-align: right;\n",
       "    }\n",
       "</style>\n",
       "<table border=\"1\" class=\"dataframe\">\n",
       "  <thead>\n",
       "    <tr style=\"text-align: right;\">\n",
       "      <th></th>\n",
       "      <th>Unnamed: 0</th>\n",
       "      <th>Date</th>\n",
       "      <th>City</th>\n",
       "      <th>Min Temp</th>\n",
       "      <th>Max Temp</th>\n",
       "      <th>Wind Direction</th>\n",
       "      <th>Wind Speed</th>\n",
       "      <th>Humidity</th>\n",
       "      <th>Pressure</th>\n",
       "      <th>Cloud</th>\n",
       "      <th>Temperature</th>\n",
       "      <th>Rain</th>\n",
       "      <th>Trm Rain</th>\n",
       "    </tr>\n",
       "  </thead>\n",
       "  <tbody>\n",
       "    <tr>\n",
       "      <th>0</th>\n",
       "      <td>0</td>\n",
       "      <td>2023-06-22 17:30:00</td>\n",
       "      <td>Srikakulam</td>\n",
       "      <td>29.43</td>\n",
       "      <td>29.43</td>\n",
       "      <td>277</td>\n",
       "      <td>1.64</td>\n",
       "      <td>77</td>\n",
       "      <td>1001</td>\n",
       "      <td>99</td>\n",
       "      <td>29.43</td>\n",
       "      <td>1</td>\n",
       "      <td>1</td>\n",
       "    </tr>\n",
       "    <tr>\n",
       "      <th>1</th>\n",
       "      <td>1</td>\n",
       "      <td>2023-06-22 20:30:00</td>\n",
       "      <td>Srikakulam</td>\n",
       "      <td>26.59</td>\n",
       "      <td>28.48</td>\n",
       "      <td>287</td>\n",
       "      <td>3.90</td>\n",
       "      <td>80</td>\n",
       "      <td>1002</td>\n",
       "      <td>99</td>\n",
       "      <td>28.48</td>\n",
       "      <td>1</td>\n",
       "      <td>1</td>\n",
       "    </tr>\n",
       "    <tr>\n",
       "      <th>2</th>\n",
       "      <td>2</td>\n",
       "      <td>2023-06-22 23:30:00</td>\n",
       "      <td>Srikakulam</td>\n",
       "      <td>26.84</td>\n",
       "      <td>27.70</td>\n",
       "      <td>275</td>\n",
       "      <td>4.03</td>\n",
       "      <td>82</td>\n",
       "      <td>1003</td>\n",
       "      <td>100</td>\n",
       "      <td>27.70</td>\n",
       "      <td>1</td>\n",
       "      <td>1</td>\n",
       "    </tr>\n",
       "    <tr>\n",
       "      <th>3</th>\n",
       "      <td>3</td>\n",
       "      <td>2023-06-23 02:30:00</td>\n",
       "      <td>Srikakulam</td>\n",
       "      <td>27.04</td>\n",
       "      <td>27.04</td>\n",
       "      <td>236</td>\n",
       "      <td>3.53</td>\n",
       "      <td>83</td>\n",
       "      <td>1002</td>\n",
       "      <td>100</td>\n",
       "      <td>27.04</td>\n",
       "      <td>0</td>\n",
       "      <td>1</td>\n",
       "    </tr>\n",
       "    <tr>\n",
       "      <th>4</th>\n",
       "      <td>4</td>\n",
       "      <td>2023-06-23 05:30:00</td>\n",
       "      <td>Srikakulam</td>\n",
       "      <td>26.60</td>\n",
       "      <td>26.60</td>\n",
       "      <td>265</td>\n",
       "      <td>3.17</td>\n",
       "      <td>84</td>\n",
       "      <td>1002</td>\n",
       "      <td>100</td>\n",
       "      <td>26.60</td>\n",
       "      <td>0</td>\n",
       "      <td>1</td>\n",
       "    </tr>\n",
       "    <tr>\n",
       "      <th>...</th>\n",
       "      <td>...</td>\n",
       "      <td>...</td>\n",
       "      <td>...</td>\n",
       "      <td>...</td>\n",
       "      <td>...</td>\n",
       "      <td>...</td>\n",
       "      <td>...</td>\n",
       "      <td>...</td>\n",
       "      <td>...</td>\n",
       "      <td>...</td>\n",
       "      <td>...</td>\n",
       "      <td>...</td>\n",
       "      <td>...</td>\n",
       "    </tr>\n",
       "    <tr>\n",
       "      <th>1195</th>\n",
       "      <td>1195</td>\n",
       "      <td>2023-06-27 02:30:00</td>\n",
       "      <td>Udaipur</td>\n",
       "      <td>25.77</td>\n",
       "      <td>25.77</td>\n",
       "      <td>256</td>\n",
       "      <td>6.47</td>\n",
       "      <td>75</td>\n",
       "      <td>1003</td>\n",
       "      <td>74</td>\n",
       "      <td>25.77</td>\n",
       "      <td>0</td>\n",
       "      <td>0</td>\n",
       "    </tr>\n",
       "    <tr>\n",
       "      <th>1196</th>\n",
       "      <td>1196</td>\n",
       "      <td>2023-06-27 05:30:00</td>\n",
       "      <td>Udaipur</td>\n",
       "      <td>24.37</td>\n",
       "      <td>24.37</td>\n",
       "      <td>254</td>\n",
       "      <td>6.69</td>\n",
       "      <td>84</td>\n",
       "      <td>1003</td>\n",
       "      <td>80</td>\n",
       "      <td>24.37</td>\n",
       "      <td>0</td>\n",
       "      <td>0</td>\n",
       "    </tr>\n",
       "    <tr>\n",
       "      <th>1197</th>\n",
       "      <td>1197</td>\n",
       "      <td>2023-06-27 08:30:00</td>\n",
       "      <td>Udaipur</td>\n",
       "      <td>26.84</td>\n",
       "      <td>26.84</td>\n",
       "      <td>246</td>\n",
       "      <td>6.80</td>\n",
       "      <td>69</td>\n",
       "      <td>1004</td>\n",
       "      <td>94</td>\n",
       "      <td>26.84</td>\n",
       "      <td>0</td>\n",
       "      <td>0</td>\n",
       "    </tr>\n",
       "    <tr>\n",
       "      <th>1198</th>\n",
       "      <td>1198</td>\n",
       "      <td>2023-06-27 11:30:00</td>\n",
       "      <td>Udaipur</td>\n",
       "      <td>30.51</td>\n",
       "      <td>30.51</td>\n",
       "      <td>244</td>\n",
       "      <td>6.82</td>\n",
       "      <td>54</td>\n",
       "      <td>1004</td>\n",
       "      <td>91</td>\n",
       "      <td>30.51</td>\n",
       "      <td>0</td>\n",
       "      <td>0</td>\n",
       "    </tr>\n",
       "    <tr>\n",
       "      <th>1199</th>\n",
       "      <td>1199</td>\n",
       "      <td>2023-06-27 14:30:00</td>\n",
       "      <td>Udaipur</td>\n",
       "      <td>31.90</td>\n",
       "      <td>31.90</td>\n",
       "      <td>250</td>\n",
       "      <td>6.39</td>\n",
       "      <td>48</td>\n",
       "      <td>1002</td>\n",
       "      <td>94</td>\n",
       "      <td>31.90</td>\n",
       "      <td>0</td>\n",
       "      <td>0</td>\n",
       "    </tr>\n",
       "  </tbody>\n",
       "</table>\n",
       "<p>1200 rows × 13 columns</p>\n",
       "</div>"
      ],
      "text/plain": [
       "      Unnamed: 0                 Date        City  Min Temp  Max Temp  \\\n",
       "0              0  2023-06-22 17:30:00  Srikakulam     29.43     29.43   \n",
       "1              1  2023-06-22 20:30:00  Srikakulam     26.59     28.48   \n",
       "2              2  2023-06-22 23:30:00  Srikakulam     26.84     27.70   \n",
       "3              3  2023-06-23 02:30:00  Srikakulam     27.04     27.04   \n",
       "4              4  2023-06-23 05:30:00  Srikakulam     26.60     26.60   \n",
       "...          ...                  ...         ...       ...       ...   \n",
       "1195        1195  2023-06-27 02:30:00     Udaipur     25.77     25.77   \n",
       "1196        1196  2023-06-27 05:30:00     Udaipur     24.37     24.37   \n",
       "1197        1197  2023-06-27 08:30:00     Udaipur     26.84     26.84   \n",
       "1198        1198  2023-06-27 11:30:00     Udaipur     30.51     30.51   \n",
       "1199        1199  2023-06-27 14:30:00     Udaipur     31.90     31.90   \n",
       "\n",
       "      Wind Direction  Wind Speed  Humidity  Pressure  Cloud  Temperature  \\\n",
       "0                277        1.64        77      1001     99        29.43   \n",
       "1                287        3.90        80      1002     99        28.48   \n",
       "2                275        4.03        82      1003    100        27.70   \n",
       "3                236        3.53        83      1002    100        27.04   \n",
       "4                265        3.17        84      1002    100        26.60   \n",
       "...              ...         ...       ...       ...    ...          ...   \n",
       "1195             256        6.47        75      1003     74        25.77   \n",
       "1196             254        6.69        84      1003     80        24.37   \n",
       "1197             246        6.80        69      1004     94        26.84   \n",
       "1198             244        6.82        54      1004     91        30.51   \n",
       "1199             250        6.39        48      1002     94        31.90   \n",
       "\n",
       "      Rain  Trm Rain  \n",
       "0        1         1  \n",
       "1        1         1  \n",
       "2        1         1  \n",
       "3        0         1  \n",
       "4        0         1  \n",
       "...    ...       ...  \n",
       "1195     0         0  \n",
       "1196     0         0  \n",
       "1197     0         0  \n",
       "1198     0         0  \n",
       "1199     0         0  \n",
       "\n",
       "[1200 rows x 13 columns]"
      ]
     },
     "execution_count": 2,
     "metadata": {},
     "output_type": "execute_result"
    }
   ],
   "source": [
    "#read the dataset\n",
    "data = pd.read_csv('rainfalltrm.csv')\n",
    "data"
   ]
  },
  {
   "cell_type": "code",
   "execution_count": 3,
   "id": "cbe64bd5",
   "metadata": {},
   "outputs": [
    {
     "name": "stdout",
     "output_type": "stream",
     "text": [
      "<class 'pandas.core.frame.DataFrame'>\n",
      "RangeIndex: 1200 entries, 0 to 1199\n",
      "Data columns (total 13 columns):\n",
      " #   Column          Non-Null Count  Dtype  \n",
      "---  ------          --------------  -----  \n",
      " 0   Unnamed: 0      1200 non-null   int64  \n",
      " 1   Date            1200 non-null   object \n",
      " 2   City            1200 non-null   object \n",
      " 3   Min Temp        1200 non-null   float64\n",
      " 4   Max Temp        1200 non-null   float64\n",
      " 5   Wind Direction  1200 non-null   int64  \n",
      " 6   Wind Speed      1200 non-null   float64\n",
      " 7   Humidity        1200 non-null   int64  \n",
      " 8   Pressure        1200 non-null   int64  \n",
      " 9   Cloud           1200 non-null   int64  \n",
      " 10  Temperature     1200 non-null   float64\n",
      " 11  Rain            1200 non-null   int64  \n",
      " 12  Trm Rain        1200 non-null   int64  \n",
      "dtypes: float64(4), int64(7), object(2)\n",
      "memory usage: 122.0+ KB\n"
     ]
    }
   ],
   "source": [
    "#Understand the data -->precise summary of the dataframe ->info()\n",
    "data.info()"
   ]
  },
  {
   "cell_type": "code",
   "execution_count": 4,
   "id": "422591c1",
   "metadata": {},
   "outputs": [],
   "source": [
    "#we need to drop the unnamed column\n",
    "data.drop(columns=['Unnamed: 0'],inplace=True)"
   ]
  },
  {
   "cell_type": "code",
   "execution_count": 5,
   "id": "660a7540",
   "metadata": {},
   "outputs": [
    {
     "name": "stdout",
     "output_type": "stream",
     "text": [
      "<class 'pandas.core.frame.DataFrame'>\n",
      "RangeIndex: 1200 entries, 0 to 1199\n",
      "Data columns (total 12 columns):\n",
      " #   Column          Non-Null Count  Dtype  \n",
      "---  ------          --------------  -----  \n",
      " 0   Date            1200 non-null   object \n",
      " 1   City            1200 non-null   object \n",
      " 2   Min Temp        1200 non-null   float64\n",
      " 3   Max Temp        1200 non-null   float64\n",
      " 4   Wind Direction  1200 non-null   int64  \n",
      " 5   Wind Speed      1200 non-null   float64\n",
      " 6   Humidity        1200 non-null   int64  \n",
      " 7   Pressure        1200 non-null   int64  \n",
      " 8   Cloud           1200 non-null   int64  \n",
      " 9   Temperature     1200 non-null   float64\n",
      " 10  Rain            1200 non-null   int64  \n",
      " 11  Trm Rain        1200 non-null   int64  \n",
      "dtypes: float64(4), int64(6), object(2)\n",
      "memory usage: 112.6+ KB\n"
     ]
    }
   ],
   "source": [
    "data.info()"
   ]
  },
  {
   "cell_type": "code",
   "execution_count": 6,
   "id": "de6c51ef",
   "metadata": {},
   "outputs": [
    {
     "data": {
      "text/html": [
       "<div>\n",
       "<style scoped>\n",
       "    .dataframe tbody tr th:only-of-type {\n",
       "        vertical-align: middle;\n",
       "    }\n",
       "\n",
       "    .dataframe tbody tr th {\n",
       "        vertical-align: top;\n",
       "    }\n",
       "\n",
       "    .dataframe thead th {\n",
       "        text-align: right;\n",
       "    }\n",
       "</style>\n",
       "<table border=\"1\" class=\"dataframe\">\n",
       "  <thead>\n",
       "    <tr style=\"text-align: right;\">\n",
       "      <th></th>\n",
       "      <th>Min Temp</th>\n",
       "      <th>Max Temp</th>\n",
       "      <th>Wind Direction</th>\n",
       "      <th>Wind Speed</th>\n",
       "      <th>Humidity</th>\n",
       "      <th>Pressure</th>\n",
       "      <th>Cloud</th>\n",
       "      <th>Temperature</th>\n",
       "      <th>Rain</th>\n",
       "      <th>Trm Rain</th>\n",
       "    </tr>\n",
       "  </thead>\n",
       "  <tbody>\n",
       "    <tr>\n",
       "      <th>count</th>\n",
       "      <td>1200.000000</td>\n",
       "      <td>1200.000000</td>\n",
       "      <td>1200.000000</td>\n",
       "      <td>1200.000000</td>\n",
       "      <td>1200.000000</td>\n",
       "      <td>1200.000000</td>\n",
       "      <td>1200.000000</td>\n",
       "      <td>1200.000000</td>\n",
       "      <td>1200.000000</td>\n",
       "      <td>1200.000000</td>\n",
       "    </tr>\n",
       "    <tr>\n",
       "      <th>mean</th>\n",
       "      <td>29.136700</td>\n",
       "      <td>29.258600</td>\n",
       "      <td>238.747500</td>\n",
       "      <td>4.575433</td>\n",
       "      <td>64.560833</td>\n",
       "      <td>1003.895833</td>\n",
       "      <td>91.944167</td>\n",
       "      <td>29.237600</td>\n",
       "      <td>0.419167</td>\n",
       "      <td>0.800000</td>\n",
       "    </tr>\n",
       "    <tr>\n",
       "      <th>std</th>\n",
       "      <td>3.702893</td>\n",
       "      <td>3.756659</td>\n",
       "      <td>67.305203</td>\n",
       "      <td>1.878808</td>\n",
       "      <td>15.283901</td>\n",
       "      <td>3.156731</td>\n",
       "      <td>18.646737</td>\n",
       "      <td>3.725701</td>\n",
       "      <td>0.493628</td>\n",
       "      <td>0.400167</td>\n",
       "    </tr>\n",
       "    <tr>\n",
       "      <th>min</th>\n",
       "      <td>19.860000</td>\n",
       "      <td>19.860000</td>\n",
       "      <td>0.000000</td>\n",
       "      <td>0.130000</td>\n",
       "      <td>24.000000</td>\n",
       "      <td>995.000000</td>\n",
       "      <td>5.000000</td>\n",
       "      <td>19.860000</td>\n",
       "      <td>0.000000</td>\n",
       "      <td>0.000000</td>\n",
       "    </tr>\n",
       "    <tr>\n",
       "      <th>25%</th>\n",
       "      <td>26.680000</td>\n",
       "      <td>26.747500</td>\n",
       "      <td>224.000000</td>\n",
       "      <td>3.100000</td>\n",
       "      <td>52.000000</td>\n",
       "      <td>1002.000000</td>\n",
       "      <td>97.000000</td>\n",
       "      <td>26.747500</td>\n",
       "      <td>0.000000</td>\n",
       "      <td>1.000000</td>\n",
       "    </tr>\n",
       "    <tr>\n",
       "      <th>50%</th>\n",
       "      <td>28.520000</td>\n",
       "      <td>28.600000</td>\n",
       "      <td>261.000000</td>\n",
       "      <td>4.640000</td>\n",
       "      <td>65.000000</td>\n",
       "      <td>1004.000000</td>\n",
       "      <td>100.000000</td>\n",
       "      <td>28.600000</td>\n",
       "      <td>0.000000</td>\n",
       "      <td>1.000000</td>\n",
       "    </tr>\n",
       "    <tr>\n",
       "      <th>75%</th>\n",
       "      <td>31.360000</td>\n",
       "      <td>31.492500</td>\n",
       "      <td>279.000000</td>\n",
       "      <td>6.040000</td>\n",
       "      <td>78.000000</td>\n",
       "      <td>1006.000000</td>\n",
       "      <td>100.000000</td>\n",
       "      <td>31.457500</td>\n",
       "      <td>1.000000</td>\n",
       "      <td>1.000000</td>\n",
       "    </tr>\n",
       "    <tr>\n",
       "      <th>max</th>\n",
       "      <td>42.430000</td>\n",
       "      <td>42.430000</td>\n",
       "      <td>358.000000</td>\n",
       "      <td>9.360000</td>\n",
       "      <td>95.000000</td>\n",
       "      <td>1012.000000</td>\n",
       "      <td>100.000000</td>\n",
       "      <td>42.430000</td>\n",
       "      <td>1.000000</td>\n",
       "      <td>1.000000</td>\n",
       "    </tr>\n",
       "  </tbody>\n",
       "</table>\n",
       "</div>"
      ],
      "text/plain": [
       "          Min Temp     Max Temp  Wind Direction   Wind Speed     Humidity  \\\n",
       "count  1200.000000  1200.000000     1200.000000  1200.000000  1200.000000   \n",
       "mean     29.136700    29.258600      238.747500     4.575433    64.560833   \n",
       "std       3.702893     3.756659       67.305203     1.878808    15.283901   \n",
       "min      19.860000    19.860000        0.000000     0.130000    24.000000   \n",
       "25%      26.680000    26.747500      224.000000     3.100000    52.000000   \n",
       "50%      28.520000    28.600000      261.000000     4.640000    65.000000   \n",
       "75%      31.360000    31.492500      279.000000     6.040000    78.000000   \n",
       "max      42.430000    42.430000      358.000000     9.360000    95.000000   \n",
       "\n",
       "          Pressure        Cloud  Temperature         Rain     Trm Rain  \n",
       "count  1200.000000  1200.000000  1200.000000  1200.000000  1200.000000  \n",
       "mean   1003.895833    91.944167    29.237600     0.419167     0.800000  \n",
       "std       3.156731    18.646737     3.725701     0.493628     0.400167  \n",
       "min     995.000000     5.000000    19.860000     0.000000     0.000000  \n",
       "25%    1002.000000    97.000000    26.747500     0.000000     1.000000  \n",
       "50%    1004.000000   100.000000    28.600000     0.000000     1.000000  \n",
       "75%    1006.000000   100.000000    31.457500     1.000000     1.000000  \n",
       "max    1012.000000   100.000000    42.430000     1.000000     1.000000  "
      ]
     },
     "execution_count": 6,
     "metadata": {},
     "output_type": "execute_result"
    }
   ],
   "source": [
    "data.describe()"
   ]
  },
  {
   "cell_type": "code",
   "execution_count": 7,
   "id": "54033893",
   "metadata": {},
   "outputs": [
    {
     "data": {
      "text/plain": [
       "Date              0\n",
       "City              0\n",
       "Min Temp          0\n",
       "Max Temp          0\n",
       "Wind Direction    0\n",
       "Wind Speed        0\n",
       "Humidity          0\n",
       "Pressure          0\n",
       "Cloud             0\n",
       "Temperature       0\n",
       "Rain              0\n",
       "Trm Rain          0\n",
       "dtype: int64"
      ]
     },
     "execution_count": 7,
     "metadata": {},
     "output_type": "execute_result"
    }
   ],
   "source": [
    "data.isnull().sum()"
   ]
  },
  {
   "cell_type": "code",
   "execution_count": 8,
   "id": "9d8d155a",
   "metadata": {},
   "outputs": [
    {
     "data": {
      "text/html": [
       "<div>\n",
       "<style scoped>\n",
       "    .dataframe tbody tr th:only-of-type {\n",
       "        vertical-align: middle;\n",
       "    }\n",
       "\n",
       "    .dataframe tbody tr th {\n",
       "        vertical-align: top;\n",
       "    }\n",
       "\n",
       "    .dataframe thead th {\n",
       "        text-align: right;\n",
       "    }\n",
       "</style>\n",
       "<table border=\"1\" class=\"dataframe\">\n",
       "  <thead>\n",
       "    <tr style=\"text-align: right;\">\n",
       "      <th></th>\n",
       "      <th>Date</th>\n",
       "      <th>City</th>\n",
       "      <th>Min Temp</th>\n",
       "      <th>Max Temp</th>\n",
       "      <th>Wind Direction</th>\n",
       "      <th>Wind Speed</th>\n",
       "      <th>Humidity</th>\n",
       "      <th>Pressure</th>\n",
       "      <th>Cloud</th>\n",
       "      <th>Temperature</th>\n",
       "      <th>Rain</th>\n",
       "      <th>Trm Rain</th>\n",
       "    </tr>\n",
       "  </thead>\n",
       "  <tbody>\n",
       "    <tr>\n",
       "      <th>0</th>\n",
       "      <td>2023-06-22 17:30:00</td>\n",
       "      <td>Srikakulam</td>\n",
       "      <td>29.43</td>\n",
       "      <td>29.43</td>\n",
       "      <td>277</td>\n",
       "      <td>1.64</td>\n",
       "      <td>77</td>\n",
       "      <td>1001</td>\n",
       "      <td>99</td>\n",
       "      <td>29.43</td>\n",
       "      <td>1</td>\n",
       "      <td>1</td>\n",
       "    </tr>\n",
       "    <tr>\n",
       "      <th>1</th>\n",
       "      <td>2023-06-22 20:30:00</td>\n",
       "      <td>Srikakulam</td>\n",
       "      <td>26.59</td>\n",
       "      <td>28.48</td>\n",
       "      <td>287</td>\n",
       "      <td>3.90</td>\n",
       "      <td>80</td>\n",
       "      <td>1002</td>\n",
       "      <td>99</td>\n",
       "      <td>28.48</td>\n",
       "      <td>1</td>\n",
       "      <td>1</td>\n",
       "    </tr>\n",
       "    <tr>\n",
       "      <th>2</th>\n",
       "      <td>2023-06-22 23:30:00</td>\n",
       "      <td>Srikakulam</td>\n",
       "      <td>26.84</td>\n",
       "      <td>27.70</td>\n",
       "      <td>275</td>\n",
       "      <td>4.03</td>\n",
       "      <td>82</td>\n",
       "      <td>1003</td>\n",
       "      <td>100</td>\n",
       "      <td>27.70</td>\n",
       "      <td>1</td>\n",
       "      <td>1</td>\n",
       "    </tr>\n",
       "    <tr>\n",
       "      <th>3</th>\n",
       "      <td>2023-06-23 02:30:00</td>\n",
       "      <td>Srikakulam</td>\n",
       "      <td>27.04</td>\n",
       "      <td>27.04</td>\n",
       "      <td>236</td>\n",
       "      <td>3.53</td>\n",
       "      <td>83</td>\n",
       "      <td>1002</td>\n",
       "      <td>100</td>\n",
       "      <td>27.04</td>\n",
       "      <td>0</td>\n",
       "      <td>1</td>\n",
       "    </tr>\n",
       "    <tr>\n",
       "      <th>4</th>\n",
       "      <td>2023-06-23 05:30:00</td>\n",
       "      <td>Srikakulam</td>\n",
       "      <td>26.60</td>\n",
       "      <td>26.60</td>\n",
       "      <td>265</td>\n",
       "      <td>3.17</td>\n",
       "      <td>84</td>\n",
       "      <td>1002</td>\n",
       "      <td>100</td>\n",
       "      <td>26.60</td>\n",
       "      <td>0</td>\n",
       "      <td>1</td>\n",
       "    </tr>\n",
       "  </tbody>\n",
       "</table>\n",
       "</div>"
      ],
      "text/plain": [
       "                  Date        City  Min Temp  Max Temp  Wind Direction  \\\n",
       "0  2023-06-22 17:30:00  Srikakulam     29.43     29.43             277   \n",
       "1  2023-06-22 20:30:00  Srikakulam     26.59     28.48             287   \n",
       "2  2023-06-22 23:30:00  Srikakulam     26.84     27.70             275   \n",
       "3  2023-06-23 02:30:00  Srikakulam     27.04     27.04             236   \n",
       "4  2023-06-23 05:30:00  Srikakulam     26.60     26.60             265   \n",
       "\n",
       "   Wind Speed  Humidity  Pressure  Cloud  Temperature  Rain  Trm Rain  \n",
       "0        1.64        77      1001     99        29.43     1         1  \n",
       "1        3.90        80      1002     99        28.48     1         1  \n",
       "2        4.03        82      1003    100        27.70     1         1  \n",
       "3        3.53        83      1002    100        27.04     0         1  \n",
       "4        3.17        84      1002    100        26.60     0         1  "
      ]
     },
     "execution_count": 8,
     "metadata": {},
     "output_type": "execute_result"
    }
   ],
   "source": [
    "data.head()"
   ]
  },
  {
   "cell_type": "code",
   "execution_count": 9,
   "id": "be2e0a31",
   "metadata": {},
   "outputs": [],
   "source": [
    "# Drop the 'Date' field\n",
    "data.drop('Date', axis=1, inplace=True)"
   ]
  },
  {
   "cell_type": "code",
   "execution_count": 10,
   "id": "7ef235f5",
   "metadata": {},
   "outputs": [
    {
     "name": "stdout",
     "output_type": "stream",
     "text": [
      "<class 'pandas.core.frame.DataFrame'>\n",
      "RangeIndex: 1200 entries, 0 to 1199\n",
      "Data columns (total 11 columns):\n",
      " #   Column          Non-Null Count  Dtype  \n",
      "---  ------          --------------  -----  \n",
      " 0   City            1200 non-null   object \n",
      " 1   Min Temp        1200 non-null   float64\n",
      " 2   Max Temp        1200 non-null   float64\n",
      " 3   Wind Direction  1200 non-null   int64  \n",
      " 4   Wind Speed      1200 non-null   float64\n",
      " 5   Humidity        1200 non-null   int64  \n",
      " 6   Pressure        1200 non-null   int64  \n",
      " 7   Cloud           1200 non-null   int64  \n",
      " 8   Temperature     1200 non-null   float64\n",
      " 9   Rain            1200 non-null   int64  \n",
      " 10  Trm Rain        1200 non-null   int64  \n",
      "dtypes: float64(4), int64(6), object(1)\n",
      "memory usage: 103.2+ KB\n"
     ]
    }
   ],
   "source": [
    "data.info()"
   ]
  },
  {
   "cell_type": "code",
   "execution_count": 11,
   "id": "df753231",
   "metadata": {},
   "outputs": [],
   "source": [
    "###Convert categorical values into numerical values\n",
    "from sklearn.preprocessing import LabelEncoder\n",
    "\n",
    "encoder = LabelEncoder()\n",
    "\n",
    "data['City'] = encoder.fit_transform(data['City'])"
   ]
  },
  {
   "cell_type": "code",
   "execution_count": 12,
   "id": "e1d2690a",
   "metadata": {},
   "outputs": [
    {
     "data": {
      "text/plain": [
       "0       22\n",
       "1       22\n",
       "2       22\n",
       "3       22\n",
       "4       22\n",
       "        ..\n",
       "1195    26\n",
       "1196    26\n",
       "1197    26\n",
       "1198    26\n",
       "1199    26\n",
       "Name: City, Length: 1200, dtype: int32"
      ]
     },
     "execution_count": 12,
     "metadata": {},
     "output_type": "execute_result"
    }
   ],
   "source": [
    "data['City']"
   ]
  },
  {
   "cell_type": "code",
   "execution_count": 13,
   "id": "4d1e86cb",
   "metadata": {},
   "outputs": [
    {
     "data": {
      "text/plain": [
       "LabelEncoder()"
      ]
     },
     "execution_count": 13,
     "metadata": {},
     "output_type": "execute_result"
    }
   ],
   "source": [
    "# Initialize LabelEncoder\n",
    "label_encoder = LabelEncoder()\n",
    "label_encoder"
   ]
  },
  {
   "cell_type": "code",
   "execution_count": 14,
   "id": "3af566ed",
   "metadata": {},
   "outputs": [
    {
     "data": {
      "text/plain": [
       "array([22, 22, 22, ..., 26, 26, 26], dtype=int64)"
      ]
     },
     "execution_count": 14,
     "metadata": {},
     "output_type": "execute_result"
    }
   ],
   "source": [
    "# Fit and transform the target variable using label encoding\n",
    "encoded_target = label_encoder.fit_transform(data['City'])\n",
    "encoded_target\n"
   ]
  },
  {
   "cell_type": "code",
   "execution_count": 15,
   "id": "3830e6a3",
   "metadata": {},
   "outputs": [
    {
     "data": {
      "text/plain": [
       "array([[22],\n",
       "       [22],\n",
       "       [22],\n",
       "       ...,\n",
       "       [26],\n",
       "       [26],\n",
       "       [26]], dtype=int64)"
      ]
     },
     "execution_count": 15,
     "metadata": {},
     "output_type": "execute_result"
    }
   ],
   "source": [
    "# Reshape the encoded target variable to a 2D array\n",
    "reshaped_target = np.reshape(encoded_target, (-1, 1))\n",
    "reshaped_target"
   ]
  },
  {
   "cell_type": "code",
   "execution_count": 16,
   "id": "ebd04935",
   "metadata": {},
   "outputs": [
    {
     "data": {
      "text/plain": [
       "array([22, 22, 22, ..., 26, 26, 26], dtype=int64)"
      ]
     },
     "execution_count": 16,
     "metadata": {},
     "output_type": "execute_result"
    }
   ],
   "source": [
    "import warnings\n",
    "warnings.filterwarnings(\"ignore\")\n",
    "\n",
    "# Fit and transform the dataset\n",
    "encoded_data = label_encoder.fit_transform(reshaped_target)\n",
    "encoded_data\n"
   ]
  },
  {
   "cell_type": "code",
   "execution_count": 17,
   "id": "021c929a",
   "metadata": {},
   "outputs": [
    {
     "data": {
      "text/plain": [
       "Index(['City', 'Min Temp', 'Max Temp', 'Wind Direction', 'Wind Speed',\n",
       "       'Humidity', 'Pressure', 'Cloud', 'Temperature', 'Rain', 'Trm Rain'],\n",
       "      dtype='object')"
      ]
     },
     "execution_count": 17,
     "metadata": {},
     "output_type": "execute_result"
    }
   ],
   "source": [
    "data.columns\n"
   ]
  },
  {
   "cell_type": "code",
   "execution_count": 18,
   "id": "68173287",
   "metadata": {},
   "outputs": [
    {
     "name": "stdout",
     "output_type": "stream",
     "text": [
      "<class 'pandas.core.frame.DataFrame'>\n",
      "RangeIndex: 1200 entries, 0 to 1199\n",
      "Data columns (total 11 columns):\n",
      " #   Column          Non-Null Count  Dtype  \n",
      "---  ------          --------------  -----  \n",
      " 0   City            1200 non-null   int32  \n",
      " 1   Min Temp        1200 non-null   float64\n",
      " 2   Max Temp        1200 non-null   float64\n",
      " 3   Wind Direction  1200 non-null   int64  \n",
      " 4   Wind Speed      1200 non-null   float64\n",
      " 5   Humidity        1200 non-null   int64  \n",
      " 6   Pressure        1200 non-null   int64  \n",
      " 7   Cloud           1200 non-null   int64  \n",
      " 8   Temperature     1200 non-null   float64\n",
      " 9   Rain            1200 non-null   int64  \n",
      " 10  Trm Rain        1200 non-null   int64  \n",
      "dtypes: float64(4), int32(1), int64(6)\n",
      "memory usage: 98.6 KB\n"
     ]
    }
   ],
   "source": [
    "data.info()"
   ]
  },
  {
   "cell_type": "code",
   "execution_count": 19,
   "id": "2ed5d43e",
   "metadata": {},
   "outputs": [],
   "source": [
    "###Split data into dependent (trm_rain) and independent variables\n",
    "X = data.drop('Trm Rain',axis=1)\n",
    "y = data['Trm Rain']\n"
   ]
  },
  {
   "cell_type": "code",
   "execution_count": 20,
   "id": "12495c8b",
   "metadata": {},
   "outputs": [
    {
     "data": {
      "text/html": [
       "<div>\n",
       "<style scoped>\n",
       "    .dataframe tbody tr th:only-of-type {\n",
       "        vertical-align: middle;\n",
       "    }\n",
       "\n",
       "    .dataframe tbody tr th {\n",
       "        vertical-align: top;\n",
       "    }\n",
       "\n",
       "    .dataframe thead th {\n",
       "        text-align: right;\n",
       "    }\n",
       "</style>\n",
       "<table border=\"1\" class=\"dataframe\">\n",
       "  <thead>\n",
       "    <tr style=\"text-align: right;\">\n",
       "      <th></th>\n",
       "      <th>City</th>\n",
       "      <th>Min Temp</th>\n",
       "      <th>Max Temp</th>\n",
       "      <th>Wind Direction</th>\n",
       "      <th>Wind Speed</th>\n",
       "      <th>Humidity</th>\n",
       "      <th>Pressure</th>\n",
       "      <th>Cloud</th>\n",
       "      <th>Temperature</th>\n",
       "      <th>Rain</th>\n",
       "    </tr>\n",
       "  </thead>\n",
       "  <tbody>\n",
       "    <tr>\n",
       "      <th>0</th>\n",
       "      <td>22</td>\n",
       "      <td>29.43</td>\n",
       "      <td>29.43</td>\n",
       "      <td>277</td>\n",
       "      <td>1.64</td>\n",
       "      <td>77</td>\n",
       "      <td>1001</td>\n",
       "      <td>99</td>\n",
       "      <td>29.43</td>\n",
       "      <td>1</td>\n",
       "    </tr>\n",
       "    <tr>\n",
       "      <th>1</th>\n",
       "      <td>22</td>\n",
       "      <td>26.59</td>\n",
       "      <td>28.48</td>\n",
       "      <td>287</td>\n",
       "      <td>3.90</td>\n",
       "      <td>80</td>\n",
       "      <td>1002</td>\n",
       "      <td>99</td>\n",
       "      <td>28.48</td>\n",
       "      <td>1</td>\n",
       "    </tr>\n",
       "    <tr>\n",
       "      <th>2</th>\n",
       "      <td>22</td>\n",
       "      <td>26.84</td>\n",
       "      <td>27.70</td>\n",
       "      <td>275</td>\n",
       "      <td>4.03</td>\n",
       "      <td>82</td>\n",
       "      <td>1003</td>\n",
       "      <td>100</td>\n",
       "      <td>27.70</td>\n",
       "      <td>1</td>\n",
       "    </tr>\n",
       "    <tr>\n",
       "      <th>3</th>\n",
       "      <td>22</td>\n",
       "      <td>27.04</td>\n",
       "      <td>27.04</td>\n",
       "      <td>236</td>\n",
       "      <td>3.53</td>\n",
       "      <td>83</td>\n",
       "      <td>1002</td>\n",
       "      <td>100</td>\n",
       "      <td>27.04</td>\n",
       "      <td>0</td>\n",
       "    </tr>\n",
       "    <tr>\n",
       "      <th>4</th>\n",
       "      <td>22</td>\n",
       "      <td>26.60</td>\n",
       "      <td>26.60</td>\n",
       "      <td>265</td>\n",
       "      <td>3.17</td>\n",
       "      <td>84</td>\n",
       "      <td>1002</td>\n",
       "      <td>100</td>\n",
       "      <td>26.60</td>\n",
       "      <td>0</td>\n",
       "    </tr>\n",
       "    <tr>\n",
       "      <th>...</th>\n",
       "      <td>...</td>\n",
       "      <td>...</td>\n",
       "      <td>...</td>\n",
       "      <td>...</td>\n",
       "      <td>...</td>\n",
       "      <td>...</td>\n",
       "      <td>...</td>\n",
       "      <td>...</td>\n",
       "      <td>...</td>\n",
       "      <td>...</td>\n",
       "    </tr>\n",
       "    <tr>\n",
       "      <th>1195</th>\n",
       "      <td>26</td>\n",
       "      <td>25.77</td>\n",
       "      <td>25.77</td>\n",
       "      <td>256</td>\n",
       "      <td>6.47</td>\n",
       "      <td>75</td>\n",
       "      <td>1003</td>\n",
       "      <td>74</td>\n",
       "      <td>25.77</td>\n",
       "      <td>0</td>\n",
       "    </tr>\n",
       "    <tr>\n",
       "      <th>1196</th>\n",
       "      <td>26</td>\n",
       "      <td>24.37</td>\n",
       "      <td>24.37</td>\n",
       "      <td>254</td>\n",
       "      <td>6.69</td>\n",
       "      <td>84</td>\n",
       "      <td>1003</td>\n",
       "      <td>80</td>\n",
       "      <td>24.37</td>\n",
       "      <td>0</td>\n",
       "    </tr>\n",
       "    <tr>\n",
       "      <th>1197</th>\n",
       "      <td>26</td>\n",
       "      <td>26.84</td>\n",
       "      <td>26.84</td>\n",
       "      <td>246</td>\n",
       "      <td>6.80</td>\n",
       "      <td>69</td>\n",
       "      <td>1004</td>\n",
       "      <td>94</td>\n",
       "      <td>26.84</td>\n",
       "      <td>0</td>\n",
       "    </tr>\n",
       "    <tr>\n",
       "      <th>1198</th>\n",
       "      <td>26</td>\n",
       "      <td>30.51</td>\n",
       "      <td>30.51</td>\n",
       "      <td>244</td>\n",
       "      <td>6.82</td>\n",
       "      <td>54</td>\n",
       "      <td>1004</td>\n",
       "      <td>91</td>\n",
       "      <td>30.51</td>\n",
       "      <td>0</td>\n",
       "    </tr>\n",
       "    <tr>\n",
       "      <th>1199</th>\n",
       "      <td>26</td>\n",
       "      <td>31.90</td>\n",
       "      <td>31.90</td>\n",
       "      <td>250</td>\n",
       "      <td>6.39</td>\n",
       "      <td>48</td>\n",
       "      <td>1002</td>\n",
       "      <td>94</td>\n",
       "      <td>31.90</td>\n",
       "      <td>0</td>\n",
       "    </tr>\n",
       "  </tbody>\n",
       "</table>\n",
       "<p>1200 rows × 10 columns</p>\n",
       "</div>"
      ],
      "text/plain": [
       "      City  Min Temp  Max Temp  Wind Direction  Wind Speed  Humidity  \\\n",
       "0       22     29.43     29.43             277        1.64        77   \n",
       "1       22     26.59     28.48             287        3.90        80   \n",
       "2       22     26.84     27.70             275        4.03        82   \n",
       "3       22     27.04     27.04             236        3.53        83   \n",
       "4       22     26.60     26.60             265        3.17        84   \n",
       "...    ...       ...       ...             ...         ...       ...   \n",
       "1195    26     25.77     25.77             256        6.47        75   \n",
       "1196    26     24.37     24.37             254        6.69        84   \n",
       "1197    26     26.84     26.84             246        6.80        69   \n",
       "1198    26     30.51     30.51             244        6.82        54   \n",
       "1199    26     31.90     31.90             250        6.39        48   \n",
       "\n",
       "      Pressure  Cloud  Temperature  Rain  \n",
       "0         1001     99        29.43     1  \n",
       "1         1002     99        28.48     1  \n",
       "2         1003    100        27.70     1  \n",
       "3         1002    100        27.04     0  \n",
       "4         1002    100        26.60     0  \n",
       "...        ...    ...          ...   ...  \n",
       "1195      1003     74        25.77     0  \n",
       "1196      1003     80        24.37     0  \n",
       "1197      1004     94        26.84     0  \n",
       "1198      1004     91        30.51     0  \n",
       "1199      1002     94        31.90     0  \n",
       "\n",
       "[1200 rows x 10 columns]"
      ]
     },
     "execution_count": 20,
     "metadata": {},
     "output_type": "execute_result"
    }
   ],
   "source": [
    "X"
   ]
  },
  {
   "cell_type": "code",
   "execution_count": 21,
   "id": "cc0dead0",
   "metadata": {},
   "outputs": [
    {
     "data": {
      "text/plain": [
       "0       1\n",
       "1       1\n",
       "2       1\n",
       "3       1\n",
       "4       1\n",
       "       ..\n",
       "1195    0\n",
       "1196    0\n",
       "1197    0\n",
       "1198    0\n",
       "1199    0\n",
       "Name: Trm Rain, Length: 1200, dtype: int64"
      ]
     },
     "execution_count": 21,
     "metadata": {},
     "output_type": "execute_result"
    }
   ],
   "source": [
    "y\n"
   ]
  },
  {
   "cell_type": "code",
   "execution_count": 22,
   "id": "7e6724af",
   "metadata": {},
   "outputs": [],
   "source": [
    "###Data Standardisation\n",
    "from sklearn.preprocessing import StandardScaler\n",
    "scaler=StandardScaler()"
   ]
  },
  {
   "cell_type": "code",
   "execution_count": 23,
   "id": "7663ae3e",
   "metadata": {},
   "outputs": [
    {
     "data": {
      "text/plain": [
       "StandardScaler()"
      ]
     },
     "execution_count": 23,
     "metadata": {},
     "output_type": "execute_result"
    }
   ],
   "source": [
    "scaler.fit(X)"
   ]
  },
  {
   "cell_type": "code",
   "execution_count": 24,
   "id": "09a7d0ee",
   "metadata": {},
   "outputs": [],
   "source": [
    "standardized_data=scaler.transform(X)"
   ]
  },
  {
   "cell_type": "code",
   "execution_count": 25,
   "id": "a37f4382",
   "metadata": {},
   "outputs": [
    {
     "name": "stdout",
     "output_type": "stream",
     "text": [
      "[[ 0.86650693  0.07924136  0.04564467 ...  0.37855283  0.05166282\n",
      "   1.1771516 ]\n",
      " [ 0.86650693 -0.6880463  -0.20734506 ...  0.37855283 -0.20342906\n",
      "   1.1771516 ]\n",
      " [ 0.86650693 -0.62050338 -0.41506295 ...  0.43220388 -0.41287291\n",
      "   1.1771516 ]\n",
      " ...\n",
      " [ 1.32864396 -0.62050338 -0.64408524 ...  0.11029761 -0.64379819\n",
      "  -0.84950826]\n",
      " [ 1.32864396  0.37102682  0.33325406 ... -0.05065553  0.341662\n",
      "  -0.84950826]\n",
      " [ 1.32864396  0.7465655   0.703418   ...  0.11029761  0.7149017\n",
      "  -0.84950826]]\n"
     ]
    }
   ],
   "source": [
    "print(standardized_data)"
   ]
  },
  {
   "cell_type": "code",
   "execution_count": 26,
   "id": "eb065737",
   "metadata": {},
   "outputs": [],
   "source": [
    "X=standardized_data\n",
    "Y=data['Trm Rain']"
   ]
  },
  {
   "cell_type": "code",
   "execution_count": 27,
   "id": "0f548638",
   "metadata": {},
   "outputs": [
    {
     "name": "stdout",
     "output_type": "stream",
     "text": [
      "[[ 0.86650693  0.07924136  0.04564467 ...  0.37855283  0.05166282\n",
      "   1.1771516 ]\n",
      " [ 0.86650693 -0.6880463  -0.20734506 ...  0.37855283 -0.20342906\n",
      "   1.1771516 ]\n",
      " [ 0.86650693 -0.62050338 -0.41506295 ...  0.43220388 -0.41287291\n",
      "   1.1771516 ]\n",
      " ...\n",
      " [ 1.32864396 -0.62050338 -0.64408524 ...  0.11029761 -0.64379819\n",
      "  -0.84950826]\n",
      " [ 1.32864396  0.37102682  0.33325406 ... -0.05065553  0.341662\n",
      "  -0.84950826]\n",
      " [ 1.32864396  0.7465655   0.703418   ...  0.11029761  0.7149017\n",
      "  -0.84950826]]\n",
      "0       1\n",
      "1       1\n",
      "2       1\n",
      "3       1\n",
      "4       1\n",
      "       ..\n",
      "1195    0\n",
      "1196    0\n",
      "1197    0\n",
      "1198    0\n",
      "1199    0\n",
      "Name: Trm Rain, Length: 1200, dtype: int64\n"
     ]
    }
   ],
   "source": [
    "print(X)\n",
    "print(Y)"
   ]
  },
  {
   "cell_type": "code",
   "execution_count": 28,
   "id": "f1c1881c",
   "metadata": {},
   "outputs": [],
   "source": [
    "from sklearn.model_selection import train_test_split\n",
    "X_train, X_test, y_train, y_test = train_test_split(X, y, test_size=0.2, random_state=42)"
   ]
  },
  {
   "cell_type": "code",
   "execution_count": 29,
   "id": "ff2ea017",
   "metadata": {},
   "outputs": [
    {
     "data": {
      "text/plain": [
       "(960, 10)"
      ]
     },
     "execution_count": 29,
     "metadata": {},
     "output_type": "execute_result"
    }
   ],
   "source": [
    "X_train.shape"
   ]
  },
  {
   "cell_type": "code",
   "execution_count": 30,
   "id": "ca3e978f",
   "metadata": {},
   "outputs": [
    {
     "data": {
      "text/plain": [
       "(240, 10)"
      ]
     },
     "execution_count": 30,
     "metadata": {},
     "output_type": "execute_result"
    }
   ],
   "source": [
    "X_test.shape"
   ]
  },
  {
   "cell_type": "code",
   "execution_count": 31,
   "id": "ffe37a4e",
   "metadata": {},
   "outputs": [
    {
     "data": {
      "text/plain": [
       "(960,)"
      ]
     },
     "execution_count": 31,
     "metadata": {},
     "output_type": "execute_result"
    }
   ],
   "source": [
    "y_train.shape"
   ]
  },
  {
   "cell_type": "code",
   "execution_count": 32,
   "id": "d66f417d",
   "metadata": {},
   "outputs": [
    {
     "data": {
      "text/plain": [
       "(240,)"
      ]
     },
     "execution_count": 32,
     "metadata": {},
     "output_type": "execute_result"
    }
   ],
   "source": [
    "y_test.shape"
   ]
  },
  {
   "cell_type": "code",
   "execution_count": 33,
   "id": "1c94898c",
   "metadata": {},
   "outputs": [],
   "source": [
    "#######logistic Regression\n",
    "from sklearn.linear_model import LogisticRegression\n",
    "from sklearn.model_selection import train_test_split\n",
    "from sklearn.metrics import accuracy_score,precision_score,recall_score,f1_score\n",
    "import warnings\n",
    "warnings.filterwarnings(\"ignore\")\n"
   ]
  },
  {
   "cell_type": "code",
   "execution_count": 34,
   "id": "ff284cce",
   "metadata": {},
   "outputs": [],
   "source": [
    "####spliting dependent and independent variables in X and y\n",
    "X = data.drop('Trm Rain',axis=1)\n",
    "y = data['Trm Rain']\n"
   ]
  },
  {
   "cell_type": "code",
   "execution_count": 35,
   "id": "6274976c",
   "metadata": {},
   "outputs": [
    {
     "data": {
      "text/html": [
       "<div>\n",
       "<style scoped>\n",
       "    .dataframe tbody tr th:only-of-type {\n",
       "        vertical-align: middle;\n",
       "    }\n",
       "\n",
       "    .dataframe tbody tr th {\n",
       "        vertical-align: top;\n",
       "    }\n",
       "\n",
       "    .dataframe thead th {\n",
       "        text-align: right;\n",
       "    }\n",
       "</style>\n",
       "<table border=\"1\" class=\"dataframe\">\n",
       "  <thead>\n",
       "    <tr style=\"text-align: right;\">\n",
       "      <th></th>\n",
       "      <th>City</th>\n",
       "      <th>Min Temp</th>\n",
       "      <th>Max Temp</th>\n",
       "      <th>Wind Direction</th>\n",
       "      <th>Wind Speed</th>\n",
       "      <th>Humidity</th>\n",
       "      <th>Pressure</th>\n",
       "      <th>Cloud</th>\n",
       "      <th>Temperature</th>\n",
       "      <th>Rain</th>\n",
       "    </tr>\n",
       "  </thead>\n",
       "  <tbody>\n",
       "    <tr>\n",
       "      <th>0</th>\n",
       "      <td>22</td>\n",
       "      <td>29.43</td>\n",
       "      <td>29.43</td>\n",
       "      <td>277</td>\n",
       "      <td>1.64</td>\n",
       "      <td>77</td>\n",
       "      <td>1001</td>\n",
       "      <td>99</td>\n",
       "      <td>29.43</td>\n",
       "      <td>1</td>\n",
       "    </tr>\n",
       "    <tr>\n",
       "      <th>1</th>\n",
       "      <td>22</td>\n",
       "      <td>26.59</td>\n",
       "      <td>28.48</td>\n",
       "      <td>287</td>\n",
       "      <td>3.90</td>\n",
       "      <td>80</td>\n",
       "      <td>1002</td>\n",
       "      <td>99</td>\n",
       "      <td>28.48</td>\n",
       "      <td>1</td>\n",
       "    </tr>\n",
       "    <tr>\n",
       "      <th>2</th>\n",
       "      <td>22</td>\n",
       "      <td>26.84</td>\n",
       "      <td>27.70</td>\n",
       "      <td>275</td>\n",
       "      <td>4.03</td>\n",
       "      <td>82</td>\n",
       "      <td>1003</td>\n",
       "      <td>100</td>\n",
       "      <td>27.70</td>\n",
       "      <td>1</td>\n",
       "    </tr>\n",
       "    <tr>\n",
       "      <th>3</th>\n",
       "      <td>22</td>\n",
       "      <td>27.04</td>\n",
       "      <td>27.04</td>\n",
       "      <td>236</td>\n",
       "      <td>3.53</td>\n",
       "      <td>83</td>\n",
       "      <td>1002</td>\n",
       "      <td>100</td>\n",
       "      <td>27.04</td>\n",
       "      <td>0</td>\n",
       "    </tr>\n",
       "    <tr>\n",
       "      <th>4</th>\n",
       "      <td>22</td>\n",
       "      <td>26.60</td>\n",
       "      <td>26.60</td>\n",
       "      <td>265</td>\n",
       "      <td>3.17</td>\n",
       "      <td>84</td>\n",
       "      <td>1002</td>\n",
       "      <td>100</td>\n",
       "      <td>26.60</td>\n",
       "      <td>0</td>\n",
       "    </tr>\n",
       "    <tr>\n",
       "      <th>...</th>\n",
       "      <td>...</td>\n",
       "      <td>...</td>\n",
       "      <td>...</td>\n",
       "      <td>...</td>\n",
       "      <td>...</td>\n",
       "      <td>...</td>\n",
       "      <td>...</td>\n",
       "      <td>...</td>\n",
       "      <td>...</td>\n",
       "      <td>...</td>\n",
       "    </tr>\n",
       "    <tr>\n",
       "      <th>1195</th>\n",
       "      <td>26</td>\n",
       "      <td>25.77</td>\n",
       "      <td>25.77</td>\n",
       "      <td>256</td>\n",
       "      <td>6.47</td>\n",
       "      <td>75</td>\n",
       "      <td>1003</td>\n",
       "      <td>74</td>\n",
       "      <td>25.77</td>\n",
       "      <td>0</td>\n",
       "    </tr>\n",
       "    <tr>\n",
       "      <th>1196</th>\n",
       "      <td>26</td>\n",
       "      <td>24.37</td>\n",
       "      <td>24.37</td>\n",
       "      <td>254</td>\n",
       "      <td>6.69</td>\n",
       "      <td>84</td>\n",
       "      <td>1003</td>\n",
       "      <td>80</td>\n",
       "      <td>24.37</td>\n",
       "      <td>0</td>\n",
       "    </tr>\n",
       "    <tr>\n",
       "      <th>1197</th>\n",
       "      <td>26</td>\n",
       "      <td>26.84</td>\n",
       "      <td>26.84</td>\n",
       "      <td>246</td>\n",
       "      <td>6.80</td>\n",
       "      <td>69</td>\n",
       "      <td>1004</td>\n",
       "      <td>94</td>\n",
       "      <td>26.84</td>\n",
       "      <td>0</td>\n",
       "    </tr>\n",
       "    <tr>\n",
       "      <th>1198</th>\n",
       "      <td>26</td>\n",
       "      <td>30.51</td>\n",
       "      <td>30.51</td>\n",
       "      <td>244</td>\n",
       "      <td>6.82</td>\n",
       "      <td>54</td>\n",
       "      <td>1004</td>\n",
       "      <td>91</td>\n",
       "      <td>30.51</td>\n",
       "      <td>0</td>\n",
       "    </tr>\n",
       "    <tr>\n",
       "      <th>1199</th>\n",
       "      <td>26</td>\n",
       "      <td>31.90</td>\n",
       "      <td>31.90</td>\n",
       "      <td>250</td>\n",
       "      <td>6.39</td>\n",
       "      <td>48</td>\n",
       "      <td>1002</td>\n",
       "      <td>94</td>\n",
       "      <td>31.90</td>\n",
       "      <td>0</td>\n",
       "    </tr>\n",
       "  </tbody>\n",
       "</table>\n",
       "<p>1200 rows × 10 columns</p>\n",
       "</div>"
      ],
      "text/plain": [
       "      City  Min Temp  Max Temp  Wind Direction  Wind Speed  Humidity  \\\n",
       "0       22     29.43     29.43             277        1.64        77   \n",
       "1       22     26.59     28.48             287        3.90        80   \n",
       "2       22     26.84     27.70             275        4.03        82   \n",
       "3       22     27.04     27.04             236        3.53        83   \n",
       "4       22     26.60     26.60             265        3.17        84   \n",
       "...    ...       ...       ...             ...         ...       ...   \n",
       "1195    26     25.77     25.77             256        6.47        75   \n",
       "1196    26     24.37     24.37             254        6.69        84   \n",
       "1197    26     26.84     26.84             246        6.80        69   \n",
       "1198    26     30.51     30.51             244        6.82        54   \n",
       "1199    26     31.90     31.90             250        6.39        48   \n",
       "\n",
       "      Pressure  Cloud  Temperature  Rain  \n",
       "0         1001     99        29.43     1  \n",
       "1         1002     99        28.48     1  \n",
       "2         1003    100        27.70     1  \n",
       "3         1002    100        27.04     0  \n",
       "4         1002    100        26.60     0  \n",
       "...        ...    ...          ...   ...  \n",
       "1195      1003     74        25.77     0  \n",
       "1196      1003     80        24.37     0  \n",
       "1197      1004     94        26.84     0  \n",
       "1198      1004     91        30.51     0  \n",
       "1199      1002     94        31.90     0  \n",
       "\n",
       "[1200 rows x 10 columns]"
      ]
     },
     "execution_count": 35,
     "metadata": {},
     "output_type": "execute_result"
    }
   ],
   "source": [
    "X"
   ]
  },
  {
   "cell_type": "code",
   "execution_count": 36,
   "id": "d2818f9f",
   "metadata": {},
   "outputs": [
    {
     "data": {
      "text/plain": [
       "0       1\n",
       "1       1\n",
       "2       1\n",
       "3       1\n",
       "4       1\n",
       "       ..\n",
       "1195    0\n",
       "1196    0\n",
       "1197    0\n",
       "1198    0\n",
       "1199    0\n",
       "Name: Trm Rain, Length: 1200, dtype: int64"
      ]
     },
     "execution_count": 36,
     "metadata": {},
     "output_type": "execute_result"
    }
   ],
   "source": [
    "y"
   ]
  },
  {
   "cell_type": "code",
   "execution_count": 37,
   "id": "91156717",
   "metadata": {},
   "outputs": [],
   "source": [
    "# Splitting the data into training and testing sets\n",
    "X_train, X_test, y_train, y_test = train_test_split(X, y, test_size=0.25, random_state=42)"
   ]
  },
  {
   "cell_type": "code",
   "execution_count": 38,
   "id": "33dbc7f3",
   "metadata": {},
   "outputs": [],
   "source": [
    "# Creating an instance of the logistic regression model\n",
    "logreg = LogisticRegression()"
   ]
  },
  {
   "cell_type": "code",
   "execution_count": 39,
   "id": "45f559db",
   "metadata": {},
   "outputs": [
    {
     "data": {
      "text/plain": [
       "LogisticRegression()"
      ]
     },
     "execution_count": 39,
     "metadata": {},
     "output_type": "execute_result"
    }
   ],
   "source": [
    "logreg"
   ]
  },
  {
   "cell_type": "code",
   "execution_count": 40,
   "id": "d38d3551",
   "metadata": {},
   "outputs": [
    {
     "data": {
      "text/plain": [
       "LogisticRegression()"
      ]
     },
     "execution_count": 40,
     "metadata": {},
     "output_type": "execute_result"
    }
   ],
   "source": [
    "# Fitting the model on the training data\n",
    "logreg.fit(X_train, y_train)"
   ]
  },
  {
   "cell_type": "code",
   "execution_count": 41,
   "id": "fe1315f5",
   "metadata": {},
   "outputs": [
    {
     "data": {
      "text/plain": [
       "array([1, 1, 1, 1, 1, 1, 1, 1, 1, 1, 1, 1, 1, 1, 1, 1, 1, 1, 1, 1, 1, 1,\n",
       "       0, 1, 1, 1, 0, 1, 1, 1, 1, 1, 1, 1, 1, 1, 1, 1, 1, 1, 1, 1, 1, 1,\n",
       "       1, 1, 1, 1, 1, 1, 1, 1, 1, 1, 0, 1, 1, 1, 1, 1, 0, 1, 1, 1, 1, 1,\n",
       "       1, 1, 1, 1, 1, 1, 1, 1, 0, 1, 1, 1, 1, 1, 1, 1, 1, 0, 1, 1, 1, 1,\n",
       "       1, 1, 1, 1, 1, 1, 1, 1, 1, 1, 1, 0, 1, 1, 1, 1, 1, 1, 1, 1, 1, 1,\n",
       "       1, 0, 1, 1, 1, 1, 1, 1, 1, 1, 1, 1, 1, 1, 1, 1, 1, 1, 1, 1, 1, 1,\n",
       "       1, 1, 1, 1, 1, 1, 1, 1, 1, 1, 1, 0, 1, 1, 1, 1, 1, 1, 1, 1, 1, 0,\n",
       "       1, 1, 1, 1, 0, 1, 1, 1, 1, 1, 1, 1, 1, 1, 1, 1, 1, 0, 1, 1, 1, 1,\n",
       "       1, 1, 1, 1, 1, 1, 1, 0, 1, 1, 1, 1, 1, 1, 1, 1, 1, 1, 1, 1, 1, 1,\n",
       "       1, 1, 1, 0, 1, 1, 1, 1, 1, 1, 1, 1, 0, 1, 1, 1, 1, 1, 1, 1, 1, 1,\n",
       "       1, 1, 1, 1, 1, 1, 1, 1, 1, 1, 1, 1, 1, 1, 1, 1, 1, 1, 1, 1, 1, 1,\n",
       "       0, 1, 1, 1, 1, 1, 1, 1, 1, 1, 1, 1, 1, 1, 1, 1, 1, 1, 1, 1, 1, 1,\n",
       "       1, 1, 1, 1, 0, 1, 1, 1, 0, 1, 1, 1, 1, 1, 1, 1, 1, 1, 1, 1, 1, 1,\n",
       "       1, 1, 1, 0, 1, 1, 1, 0, 1, 1, 1, 1, 1, 1], dtype=int64)"
      ]
     },
     "execution_count": 41,
     "metadata": {},
     "output_type": "execute_result"
    }
   ],
   "source": [
    "# Making predictions on the testing data\n",
    "y_pred = logreg.predict(X_test)\n",
    "y_pred"
   ]
  },
  {
   "cell_type": "code",
   "execution_count": 42,
   "id": "0f55bb3d",
   "metadata": {},
   "outputs": [
    {
     "name": "stdout",
     "output_type": "stream",
     "text": [
      "Accuracy: 0.8133333333333334\n",
      "Precision: 0.825\n",
      "Recall: 0.9705882352941176\n",
      "F1_score: 0.8918918918918919\n"
     ]
    }
   ],
   "source": [
    "# Evaluating the model's accuracy,precision,recall and f1 score\n",
    "accuracy = accuracy_score(y_test, y_pred)\n",
    "print(\"Accuracy:\", accuracy)\n",
    "precision = precision_score(y_test, y_pred)\n",
    "print(\"Precision:\", precision)\n",
    "recall = recall_score(y_test, y_pred)\n",
    "print(\"Recall:\", recall)\n",
    "f1 = f1_score(y_test, y_pred)\n",
    "print(\"F1_score:\", f1)\n",
    "\n"
   ]
  },
  {
   "cell_type": "code",
   "execution_count": 43,
   "id": "a5b86014",
   "metadata": {},
   "outputs": [],
   "source": [
    "#####Making a rainfall predictive system\n",
    "input_data=(2,26.840000000000032,27.700000000000045,275,4.03,82,1003,100,27.700000000000045,1)\n"
   ]
  },
  {
   "cell_type": "code",
   "execution_count": 44,
   "id": "3c2ac692",
   "metadata": {},
   "outputs": [
    {
     "name": "stdout",
     "output_type": "stream",
     "text": [
      "[[-1.44417822 -0.62050338 -0.41506295  0.53885306 -0.29042928  1.14149113\n",
      "  -0.28390341  0.43220388 -0.41287291  1.1771516 ]]\n",
      "[1]\n"
     ]
    }
   ],
   "source": [
    "###changing the input_data to the numpy array\n",
    "input_data_as_numpy_array=np.asarray(input_data)\n",
    "###reshape the array as we are predicting for one instance\n",
    "input_data_reshaped=input_data_as_numpy_array.reshape(1,-1)\n",
    "###standardise the input data\n",
    "std_data=scaler.transform(input_data_reshaped)\n",
    "print(std_data)\n",
    "prediction=logreg.predict(std_data)\n",
    "print(prediction)"
   ]
  },
  {
   "cell_type": "code",
   "execution_count": 45,
   "id": "6248ed06",
   "metadata": {},
   "outputs": [
    {
     "name": "stdout",
     "output_type": "stream",
     "text": [
      "it will rain tomorrow\n"
     ]
    }
   ],
   "source": [
    "if prediction[0]==1:\n",
    "    print(\"it will rain tomorrow\")\n",
    "else:\n",
    "    print(\"it will not rain tomorrow\")"
   ]
  },
  {
   "cell_type": "code",
   "execution_count": 46,
   "id": "ae97375f",
   "metadata": {},
   "outputs": [],
   "source": [
    "input_data=(118,25.960000000000036,25.960000000000036,274,7.77,81,1005,100,25.960000000000036,0)"
   ]
  },
  {
   "cell_type": "code",
   "execution_count": 47,
   "id": "8a43bdc2",
   "metadata": {},
   "outputs": [
    {
     "name": "stdout",
     "output_type": "stream",
     "text": [
      "[[11.95779564 -0.85825448 -0.87843363  0.52398917  1.70102495  1.07603553\n",
      "   0.34992746  0.43220388 -0.88009382 -0.84950826]]\n",
      "[0]\n"
     ]
    }
   ],
   "source": [
    "###changing the input_data to the numpy array\n",
    "input_data_as_numpy_array=np.asarray(input_data)\n",
    "###reshape the array as we are predicting for one instance\n",
    "input_data_reshaped=input_data_as_numpy_array.reshape(1,-1)\n",
    "###standardise the input data\n",
    "std_data=scaler.transform(input_data_reshaped)\n",
    "print(std_data)\n",
    "prediction=logreg.predict(std_data)\n",
    "print(prediction)"
   ]
  },
  {
   "cell_type": "code",
   "execution_count": 48,
   "id": "70b5d498",
   "metadata": {},
   "outputs": [
    {
     "name": "stdout",
     "output_type": "stream",
     "text": [
      "it will not rain tomorrow\n"
     ]
    }
   ],
   "source": [
    "if prediction[0]==1:\n",
    "    print(\"it will rain tomorrow\")\n",
    "else:\n",
    "    print(\"it will not rain tomorrow\")"
   ]
  },
  {
   "cell_type": "code",
   "execution_count": 49,
   "id": "84be9d26",
   "metadata": {},
   "outputs": [],
   "source": [
    "####support vector machine\n",
    "from sklearn.svm import SVC\n",
    "from sklearn.model_selection import train_test_split\n",
    "from sklearn.metrics import accuracy_score, precision_score, recall_score, f1_score\n",
    "import warnings\n",
    "warnings.filterwarnings(\"ignore\")\n",
    "\n"
   ]
  },
  {
   "cell_type": "code",
   "execution_count": 50,
   "id": "7afa94a7",
   "metadata": {},
   "outputs": [],
   "source": [
    "####spliting dependent and independent variables in X and y\n",
    "X = data.drop('Trm Rain',axis=1)\n",
    "y = data['Trm Rain']"
   ]
  },
  {
   "cell_type": "code",
   "execution_count": 51,
   "id": "449c9fc2",
   "metadata": {},
   "outputs": [
    {
     "data": {
      "text/html": [
       "<div>\n",
       "<style scoped>\n",
       "    .dataframe tbody tr th:only-of-type {\n",
       "        vertical-align: middle;\n",
       "    }\n",
       "\n",
       "    .dataframe tbody tr th {\n",
       "        vertical-align: top;\n",
       "    }\n",
       "\n",
       "    .dataframe thead th {\n",
       "        text-align: right;\n",
       "    }\n",
       "</style>\n",
       "<table border=\"1\" class=\"dataframe\">\n",
       "  <thead>\n",
       "    <tr style=\"text-align: right;\">\n",
       "      <th></th>\n",
       "      <th>City</th>\n",
       "      <th>Min Temp</th>\n",
       "      <th>Max Temp</th>\n",
       "      <th>Wind Direction</th>\n",
       "      <th>Wind Speed</th>\n",
       "      <th>Humidity</th>\n",
       "      <th>Pressure</th>\n",
       "      <th>Cloud</th>\n",
       "      <th>Temperature</th>\n",
       "      <th>Rain</th>\n",
       "    </tr>\n",
       "  </thead>\n",
       "  <tbody>\n",
       "    <tr>\n",
       "      <th>0</th>\n",
       "      <td>22</td>\n",
       "      <td>29.43</td>\n",
       "      <td>29.43</td>\n",
       "      <td>277</td>\n",
       "      <td>1.64</td>\n",
       "      <td>77</td>\n",
       "      <td>1001</td>\n",
       "      <td>99</td>\n",
       "      <td>29.43</td>\n",
       "      <td>1</td>\n",
       "    </tr>\n",
       "    <tr>\n",
       "      <th>1</th>\n",
       "      <td>22</td>\n",
       "      <td>26.59</td>\n",
       "      <td>28.48</td>\n",
       "      <td>287</td>\n",
       "      <td>3.90</td>\n",
       "      <td>80</td>\n",
       "      <td>1002</td>\n",
       "      <td>99</td>\n",
       "      <td>28.48</td>\n",
       "      <td>1</td>\n",
       "    </tr>\n",
       "    <tr>\n",
       "      <th>2</th>\n",
       "      <td>22</td>\n",
       "      <td>26.84</td>\n",
       "      <td>27.70</td>\n",
       "      <td>275</td>\n",
       "      <td>4.03</td>\n",
       "      <td>82</td>\n",
       "      <td>1003</td>\n",
       "      <td>100</td>\n",
       "      <td>27.70</td>\n",
       "      <td>1</td>\n",
       "    </tr>\n",
       "    <tr>\n",
       "      <th>3</th>\n",
       "      <td>22</td>\n",
       "      <td>27.04</td>\n",
       "      <td>27.04</td>\n",
       "      <td>236</td>\n",
       "      <td>3.53</td>\n",
       "      <td>83</td>\n",
       "      <td>1002</td>\n",
       "      <td>100</td>\n",
       "      <td>27.04</td>\n",
       "      <td>0</td>\n",
       "    </tr>\n",
       "    <tr>\n",
       "      <th>4</th>\n",
       "      <td>22</td>\n",
       "      <td>26.60</td>\n",
       "      <td>26.60</td>\n",
       "      <td>265</td>\n",
       "      <td>3.17</td>\n",
       "      <td>84</td>\n",
       "      <td>1002</td>\n",
       "      <td>100</td>\n",
       "      <td>26.60</td>\n",
       "      <td>0</td>\n",
       "    </tr>\n",
       "    <tr>\n",
       "      <th>...</th>\n",
       "      <td>...</td>\n",
       "      <td>...</td>\n",
       "      <td>...</td>\n",
       "      <td>...</td>\n",
       "      <td>...</td>\n",
       "      <td>...</td>\n",
       "      <td>...</td>\n",
       "      <td>...</td>\n",
       "      <td>...</td>\n",
       "      <td>...</td>\n",
       "    </tr>\n",
       "    <tr>\n",
       "      <th>1195</th>\n",
       "      <td>26</td>\n",
       "      <td>25.77</td>\n",
       "      <td>25.77</td>\n",
       "      <td>256</td>\n",
       "      <td>6.47</td>\n",
       "      <td>75</td>\n",
       "      <td>1003</td>\n",
       "      <td>74</td>\n",
       "      <td>25.77</td>\n",
       "      <td>0</td>\n",
       "    </tr>\n",
       "    <tr>\n",
       "      <th>1196</th>\n",
       "      <td>26</td>\n",
       "      <td>24.37</td>\n",
       "      <td>24.37</td>\n",
       "      <td>254</td>\n",
       "      <td>6.69</td>\n",
       "      <td>84</td>\n",
       "      <td>1003</td>\n",
       "      <td>80</td>\n",
       "      <td>24.37</td>\n",
       "      <td>0</td>\n",
       "    </tr>\n",
       "    <tr>\n",
       "      <th>1197</th>\n",
       "      <td>26</td>\n",
       "      <td>26.84</td>\n",
       "      <td>26.84</td>\n",
       "      <td>246</td>\n",
       "      <td>6.80</td>\n",
       "      <td>69</td>\n",
       "      <td>1004</td>\n",
       "      <td>94</td>\n",
       "      <td>26.84</td>\n",
       "      <td>0</td>\n",
       "    </tr>\n",
       "    <tr>\n",
       "      <th>1198</th>\n",
       "      <td>26</td>\n",
       "      <td>30.51</td>\n",
       "      <td>30.51</td>\n",
       "      <td>244</td>\n",
       "      <td>6.82</td>\n",
       "      <td>54</td>\n",
       "      <td>1004</td>\n",
       "      <td>91</td>\n",
       "      <td>30.51</td>\n",
       "      <td>0</td>\n",
       "    </tr>\n",
       "    <tr>\n",
       "      <th>1199</th>\n",
       "      <td>26</td>\n",
       "      <td>31.90</td>\n",
       "      <td>31.90</td>\n",
       "      <td>250</td>\n",
       "      <td>6.39</td>\n",
       "      <td>48</td>\n",
       "      <td>1002</td>\n",
       "      <td>94</td>\n",
       "      <td>31.90</td>\n",
       "      <td>0</td>\n",
       "    </tr>\n",
       "  </tbody>\n",
       "</table>\n",
       "<p>1200 rows × 10 columns</p>\n",
       "</div>"
      ],
      "text/plain": [
       "      City  Min Temp  Max Temp  Wind Direction  Wind Speed  Humidity  \\\n",
       "0       22     29.43     29.43             277        1.64        77   \n",
       "1       22     26.59     28.48             287        3.90        80   \n",
       "2       22     26.84     27.70             275        4.03        82   \n",
       "3       22     27.04     27.04             236        3.53        83   \n",
       "4       22     26.60     26.60             265        3.17        84   \n",
       "...    ...       ...       ...             ...         ...       ...   \n",
       "1195    26     25.77     25.77             256        6.47        75   \n",
       "1196    26     24.37     24.37             254        6.69        84   \n",
       "1197    26     26.84     26.84             246        6.80        69   \n",
       "1198    26     30.51     30.51             244        6.82        54   \n",
       "1199    26     31.90     31.90             250        6.39        48   \n",
       "\n",
       "      Pressure  Cloud  Temperature  Rain  \n",
       "0         1001     99        29.43     1  \n",
       "1         1002     99        28.48     1  \n",
       "2         1003    100        27.70     1  \n",
       "3         1002    100        27.04     0  \n",
       "4         1002    100        26.60     0  \n",
       "...        ...    ...          ...   ...  \n",
       "1195      1003     74        25.77     0  \n",
       "1196      1003     80        24.37     0  \n",
       "1197      1004     94        26.84     0  \n",
       "1198      1004     91        30.51     0  \n",
       "1199      1002     94        31.90     0  \n",
       "\n",
       "[1200 rows x 10 columns]"
      ]
     },
     "execution_count": 51,
     "metadata": {},
     "output_type": "execute_result"
    }
   ],
   "source": [
    "X"
   ]
  },
  {
   "cell_type": "code",
   "execution_count": 52,
   "id": "694b9481",
   "metadata": {},
   "outputs": [
    {
     "data": {
      "text/plain": [
       "0       1\n",
       "1       1\n",
       "2       1\n",
       "3       1\n",
       "4       1\n",
       "       ..\n",
       "1195    0\n",
       "1196    0\n",
       "1197    0\n",
       "1198    0\n",
       "1199    0\n",
       "Name: Trm Rain, Length: 1200, dtype: int64"
      ]
     },
     "execution_count": 52,
     "metadata": {},
     "output_type": "execute_result"
    }
   ],
   "source": [
    "y"
   ]
  },
  {
   "cell_type": "code",
   "execution_count": 53,
   "id": "dca1d0d9",
   "metadata": {},
   "outputs": [],
   "source": [
    "# Splitting the data into training and testing sets\n",
    "X_train, X_test, y_train, y_test = train_test_split(X, y, test_size=0.25, random_state=42)"
   ]
  },
  {
   "cell_type": "code",
   "execution_count": 54,
   "id": "74e3d9e4",
   "metadata": {},
   "outputs": [],
   "source": [
    "# Create an instance of the SVC model\n",
    "svc_model = SVC()"
   ]
  },
  {
   "cell_type": "code",
   "execution_count": 55,
   "id": "1666a5e2",
   "metadata": {},
   "outputs": [
    {
     "data": {
      "text/plain": [
       "SVC()"
      ]
     },
     "execution_count": 55,
     "metadata": {},
     "output_type": "execute_result"
    }
   ],
   "source": [
    "svc_model"
   ]
  },
  {
   "cell_type": "code",
   "execution_count": 56,
   "id": "3232cf8b",
   "metadata": {},
   "outputs": [
    {
     "data": {
      "text/plain": [
       "SVC()"
      ]
     },
     "execution_count": 56,
     "metadata": {},
     "output_type": "execute_result"
    }
   ],
   "source": [
    "# Fit the model on the training data\n",
    "svc_model.fit(X_train, y_train)\n"
   ]
  },
  {
   "cell_type": "code",
   "execution_count": 57,
   "id": "413fc488",
   "metadata": {},
   "outputs": [
    {
     "data": {
      "text/plain": [
       "array([1, 1, 1, 1, 1, 1, 1, 1, 1, 1, 1, 1, 1, 1, 1, 1, 1, 1, 1, 1, 1, 1,\n",
       "       1, 1, 1, 1, 1, 1, 1, 1, 1, 1, 1, 1, 1, 1, 1, 1, 1, 1, 1, 1, 1, 1,\n",
       "       1, 1, 1, 1, 1, 1, 1, 1, 1, 1, 1, 1, 1, 1, 1, 1, 1, 1, 1, 1, 1, 1,\n",
       "       1, 1, 1, 1, 1, 1, 1, 1, 1, 1, 1, 1, 1, 1, 1, 1, 1, 1, 1, 1, 1, 1,\n",
       "       1, 1, 1, 1, 1, 1, 1, 1, 1, 1, 1, 1, 1, 1, 1, 1, 1, 1, 1, 1, 1, 1,\n",
       "       1, 1, 1, 1, 1, 1, 1, 1, 1, 1, 1, 1, 1, 1, 1, 1, 1, 1, 1, 1, 1, 1,\n",
       "       1, 1, 1, 1, 1, 1, 1, 1, 1, 1, 1, 1, 1, 1, 1, 1, 1, 1, 1, 1, 1, 1,\n",
       "       1, 1, 1, 1, 1, 1, 1, 1, 1, 1, 1, 1, 1, 1, 1, 1, 1, 1, 1, 1, 1, 1,\n",
       "       1, 1, 1, 1, 1, 1, 1, 1, 1, 1, 1, 1, 1, 1, 1, 1, 1, 1, 1, 1, 1, 1,\n",
       "       1, 1, 1, 1, 1, 1, 1, 1, 1, 1, 1, 1, 1, 1, 1, 1, 1, 1, 1, 1, 1, 1,\n",
       "       1, 1, 1, 1, 1, 1, 1, 1, 1, 1, 1, 1, 1, 1, 1, 1, 1, 1, 1, 1, 1, 1,\n",
       "       1, 1, 1, 1, 1, 1, 1, 1, 1, 1, 1, 1, 1, 1, 1, 1, 1, 1, 1, 1, 1, 1,\n",
       "       1, 1, 1, 1, 1, 1, 1, 1, 1, 1, 1, 1, 1, 1, 1, 1, 1, 1, 1, 1, 1, 1,\n",
       "       1, 1, 1, 1, 1, 1, 1, 1, 1, 1, 1, 1, 1, 1], dtype=int64)"
      ]
     },
     "execution_count": 57,
     "metadata": {},
     "output_type": "execute_result"
    }
   ],
   "source": [
    "# Make predictions on the test data\n",
    "y_pred = svc_model.predict(X_test)\n",
    "y_pred"
   ]
  },
  {
   "cell_type": "code",
   "execution_count": 58,
   "id": "b5fc47a8",
   "metadata": {},
   "outputs": [
    {
     "name": "stdout",
     "output_type": "stream",
     "text": [
      "Accuracy: 0.7933333333333333\n",
      "Precision: 0.7933333333333333\n",
      "Recall: 1.0\n",
      "F1 Score: 0.8847583643122676\n"
     ]
    }
   ],
   "source": [
    "# Evaluate the model performance\n",
    "accuracy = accuracy_score(y_test, y_pred)\n",
    "precision = precision_score(y_test, y_pred)\n",
    "recall = recall_score(y_test, y_pred)\n",
    "f1 = f1_score(y_test, y_pred)\n",
    "\n",
    "# Print the performance metrics\n",
    "print(\"Accuracy:\", accuracy)\n",
    "print(\"Precision:\", precision)\n",
    "print(\"Recall:\", recall)\n",
    "print(\"F1 Score:\", f1)"
   ]
  },
  {
   "cell_type": "code",
   "execution_count": null,
   "id": "0042a263",
   "metadata": {},
   "outputs": [],
   "source": [
    "#####kNeighbors classifier\n",
    "from sklearn.neighbors import KNeighborsClassifier\n",
    "from sklearn.model_selection import train_test_split\n",
    "from sklearn.metrics import accuracy_score, precision_score, recall_score, f1_score\n",
    "import warnings\n",
    "warnings.filterwarnings(\"ignore\")\n",
    "\n"
   ]
  },
  {
   "cell_type": "code",
   "execution_count": null,
   "id": "0103c879",
   "metadata": {},
   "outputs": [],
   "source": [
    "####spliting dependent and independent variables in X and y\n",
    "X = data.drop('Trm Rain',axis=1)\n",
    "y = data['Trm Rain']"
   ]
  },
  {
   "cell_type": "code",
   "execution_count": null,
   "id": "fbbc5dd4",
   "metadata": {},
   "outputs": [],
   "source": [
    "X"
   ]
  },
  {
   "cell_type": "code",
   "execution_count": null,
   "id": "086bd255",
   "metadata": {},
   "outputs": [],
   "source": [
    "y"
   ]
  },
  {
   "cell_type": "code",
   "execution_count": null,
   "id": "a0a91cba",
   "metadata": {},
   "outputs": [],
   "source": [
    "# Splitting the data into training and testing sets\n",
    "X_train, X_test, y_train, y_test = train_test_split(X, y, test_size=0.25, random_state=42)"
   ]
  },
  {
   "cell_type": "code",
   "execution_count": null,
   "id": "27af74ec",
   "metadata": {},
   "outputs": [],
   "source": [
    "# Creating an instance of KNeighborsClassifier\n",
    "knn = KNeighborsClassifier(n_neighbors=5)\n",
    "knn\n"
   ]
  },
  {
   "cell_type": "code",
   "execution_count": null,
   "id": "7fe798f6",
   "metadata": {},
   "outputs": [],
   "source": [
    "# Fitting the model with training data\n",
    "knn.fit(X_train, y_train)\n"
   ]
  },
  {
   "cell_type": "code",
   "execution_count": null,
   "id": "89cf141f",
   "metadata": {},
   "outputs": [],
   "source": [
    "# Predicting labels for the test set\n",
    "y_pred = knn.predict(X_test)\n",
    "y_pred"
   ]
  },
  {
   "cell_type": "code",
   "execution_count": null,
   "id": "eec94607",
   "metadata": {},
   "outputs": [],
   "source": [
    "# Evaluating the metrics\n",
    "accuracy = accuracy_score(y_test, y_pred)\n",
    "precision = precision_score(y_test, y_pred)\n",
    "recall = recall_score(y_test, y_pred)\n",
    "f1 = f1_score(y_test, y_pred)\n",
    "\n",
    "# Printing the metrics\n",
    "print(\"Accuracy:\", accuracy)\n",
    "print(\"Precision:\", precision)\n",
    "print(\"Recall:\", recall)\n",
    "print(\"F1 Score:\", f1)"
   ]
  },
  {
   "cell_type": "code",
   "execution_count": null,
   "id": "2089a968",
   "metadata": {},
   "outputs": [],
   "source": [
    "#####Decision Tree classifier\n",
    "from sklearn.model_selection import train_test_split\n",
    "from sklearn.tree import DecisionTreeClassifier\n",
    "from sklearn.metrics import accuracy_score, precision_score, recall_score, f1_score\n",
    "import warnings\n",
    "warnings.filterwarnings(\"ignore\")"
   ]
  },
  {
   "cell_type": "code",
   "execution_count": null,
   "id": "9f2f8c3e",
   "metadata": {},
   "outputs": [],
   "source": [
    "####spliting dependent and independent variables in X and y\n",
    "X = data.drop('Trm Rain',axis=1)\n",
    "y = data['Trm Rain']"
   ]
  },
  {
   "cell_type": "code",
   "execution_count": null,
   "id": "bff52197",
   "metadata": {},
   "outputs": [],
   "source": [
    "X"
   ]
  },
  {
   "cell_type": "code",
   "execution_count": null,
   "id": "aff367d3",
   "metadata": {},
   "outputs": [],
   "source": [
    "y"
   ]
  },
  {
   "cell_type": "code",
   "execution_count": null,
   "id": "b017dde2",
   "metadata": {},
   "outputs": [],
   "source": [
    "# Split the dataset into training and testing sets\n",
    "X_train, X_test, y_train, y_test = train_test_split(X, y, test_size=0.25, random_state=42)\n"
   ]
  },
  {
   "cell_type": "code",
   "execution_count": null,
   "id": "36d9cc77",
   "metadata": {},
   "outputs": [],
   "source": [
    "# Create a decision tree classifier\n",
    "clf = DecisionTreeClassifier()\n",
    "clf"
   ]
  },
  {
   "cell_type": "code",
   "execution_count": null,
   "id": "501ff200",
   "metadata": {},
   "outputs": [],
   "source": [
    "# Fit the model with training data\n",
    "clf.fit(X_train, y_train)"
   ]
  },
  {
   "cell_type": "code",
   "execution_count": null,
   "id": "b20b9fac",
   "metadata": {},
   "outputs": [],
   "source": [
    "# Make predictions on the testing data\n",
    "y_pred = clf.predict(X_test)\n",
    "y_pred\n"
   ]
  },
  {
   "cell_type": "code",
   "execution_count": null,
   "id": "5437d0e0",
   "metadata": {},
   "outputs": [],
   "source": [
    "# Evaluate the metrics\n",
    "accuracy = accuracy_score(y_test, y_pred)\n",
    "precision = precision_score(y_test, y_pred)\n",
    "recall = recall_score(y_test, y_pred)\n",
    "f1 = f1_score(y_test, y_pred)\n",
    "\n",
    "# Print the metrics\n",
    "print(\"Accuracy:\", accuracy)\n",
    "print(\"Precision:\", precision)\n",
    "print(\"Recall:\", recall)\n",
    "print(\"F1-score:\", f1)"
   ]
  },
  {
   "cell_type": "code",
   "execution_count": null,
   "id": "5871f16e",
   "metadata": {},
   "outputs": [],
   "source": [
    "#####Random Forest Classifier\n",
    "from sklearn.ensemble import RandomForestClassifier\n",
    "from sklearn.metrics import accuracy_score, precision_score, recall_score, f1_score\n",
    "from sklearn.model_selection import train_test_split\n",
    "import warnings\n",
    "warnings.filterwarnings(\"ignore\")"
   ]
  },
  {
   "cell_type": "code",
   "execution_count": null,
   "id": "8dd71a53",
   "metadata": {},
   "outputs": [],
   "source": [
    "####spliting dependent and independent variables in X and y\n",
    "X = data.drop('Trm Rain',axis=1)\n",
    "y = data['Trm Rain']"
   ]
  },
  {
   "cell_type": "code",
   "execution_count": null,
   "id": "e74e00a4",
   "metadata": {},
   "outputs": [],
   "source": [
    "X"
   ]
  },
  {
   "cell_type": "code",
   "execution_count": null,
   "id": "5011efa2",
   "metadata": {},
   "outputs": [],
   "source": [
    "y"
   ]
  },
  {
   "cell_type": "code",
   "execution_count": null,
   "id": "e33ef325",
   "metadata": {},
   "outputs": [],
   "source": [
    "# Assuming you have X and y\n",
    "X_train, X_test, y_train, y_test = train_test_split(X,y, test_size=0.25, random_state=42)"
   ]
  },
  {
   "cell_type": "code",
   "execution_count": null,
   "id": "8aa7ed98",
   "metadata": {},
   "outputs": [],
   "source": [
    "# Create an instance of the Random Forest Classifier\n",
    "rf_classifier = RandomForestClassifier()\n"
   ]
  },
  {
   "cell_type": "code",
   "execution_count": null,
   "id": "12dd2b78",
   "metadata": {},
   "outputs": [],
   "source": [
    "# Fit the model with the training data\n",
    "rf_classifier.fit(X_train, y_train)\n"
   ]
  },
  {
   "cell_type": "code",
   "execution_count": null,
   "id": "04f46c1d",
   "metadata": {},
   "outputs": [],
   "source": [
    "# Make predictions on the test data\n",
    "y_pred = rf_classifier.predict(X_test)\n",
    "y_pred"
   ]
  },
  {
   "cell_type": "code",
   "execution_count": null,
   "id": "654d3c7c",
   "metadata": {},
   "outputs": [],
   "source": [
    "# Evaluate the metrics\n",
    "accuracy = accuracy_score(y_test, y_pred)\n",
    "precision = precision_score(y_test, y_pred)\n",
    "recall = recall_score(y_test, y_pred)\n",
    "f1 = f1_score(y_test, y_pred)\n",
    "\n",
    "# Print the evaluation metrics\n",
    "print(\"Accuracy:\", accuracy)\n",
    "print(\"Precision:\", precision)\n",
    "print(\"Recall:\", recall)\n",
    "print(\"F1 Score:\", f1)"
   ]
  },
  {
   "cell_type": "code",
   "execution_count": null,
   "id": "f32a1de6",
   "metadata": {},
   "outputs": [],
   "source": [
    "###Scatter plot \n",
    "plt.scatter(data['Rain'], data['Trm Rain'])\n",
    "plt.xlabel('Rain')\n",
    "plt.ylabel('Trm Rain')\n",
    "plt.title('Rain vs Trm Rain')\n",
    "plt.show()"
   ]
  },
  {
   "cell_type": "code",
   "execution_count": null,
   "id": "ce3d8432",
   "metadata": {},
   "outputs": [],
   "source": [
    "###Scatter plot \n",
    "plt.scatter(data['Wind Speed'], data['Wind Direction'])\n",
    "plt.xlabel('Wind Speed')\n",
    "plt.ylabel('Wind Direction')\n",
    "plt.title('wind speed vs wind direction')\n",
    "plt.show()"
   ]
  },
  {
   "cell_type": "code",
   "execution_count": null,
   "id": "b767398c",
   "metadata": {},
   "outputs": [],
   "source": [
    "###Scatter plot \n",
    "plt.scatter(data['Wind Direction'], data['Wind Speed'])\n",
    "plt.xlabel('Wind Direction')\n",
    "plt.ylabel('Wind Speed')\n",
    "plt.title('wind direction vs wind speed')\n",
    "plt.show()"
   ]
  },
  {
   "cell_type": "code",
   "execution_count": null,
   "id": "d96a215d",
   "metadata": {},
   "outputs": [],
   "source": [
    "###Scatter plot \n",
    "plt.scatter(data['Min Temp'], data['Max Temp'])\n",
    "plt.xlabel('Min Temp')\n",
    "plt.ylabel('Max Temp')\n",
    "plt.title('Min Temp vs Max Temp')\n",
    "plt.show()"
   ]
  },
  {
   "cell_type": "code",
   "execution_count": null,
   "id": "7b2c3ba7",
   "metadata": {},
   "outputs": [],
   "source": [
    "###Scatter plot \n",
    "plt.scatter(data['Max Temp'], data['Min Temp'])\n",
    "plt.xlabel('Max Temp')\n",
    "plt.ylabel('Min Temp')\n",
    "plt.title('Max Temp vs Min Temp')\n",
    "plt.show()"
   ]
  },
  {
   "cell_type": "code",
   "execution_count": null,
   "id": "174e0d6f",
   "metadata": {},
   "outputs": [],
   "source": [
    "###Scatter plot \n",
    "plt.scatter(data['Temperature'], data['Humidity'])\n",
    "plt.xlabel('Temperature')\n",
    "plt.ylabel('Humidity')\n",
    "plt.title('Temperature vs Humidity')\n",
    "plt.show()"
   ]
  },
  {
   "cell_type": "code",
   "execution_count": null,
   "id": "658b2f0f",
   "metadata": {},
   "outputs": [],
   "source": [
    "###Scatter plot \n",
    "plt.scatter(data['Humidity'], data['Temperature'])\n",
    "plt.xlabel('Humidity')\n",
    "plt.ylabel('Temperature')\n",
    "plt.title('Humidity vs Temperature')\n",
    "plt.show()"
   ]
  },
  {
   "cell_type": "code",
   "execution_count": null,
   "id": "6e52a303",
   "metadata": {},
   "outputs": [],
   "source": [
    "# Bar plot \n",
    "rain_counts = data['Rain'].value_counts()\n",
    "trm_rain_counts = data['Trm Rain'].value_counts()\n",
    "\n",
    "plt.figure(figsize=(8, 4))\n",
    "plt.subplot(1, 2, 1)\n",
    "plt.bar(rain_counts.index, rain_counts.values)\n",
    "plt.xlabel('Rain')\n",
    "plt.ylabel('Count')\n",
    "plt.title('Rain')\n",
    "\n",
    "plt.subplot(1, 2, 2)\n",
    "plt.bar(trm_rain_counts.index, trm_rain_counts.values)\n",
    "plt.xlabel('Trm Rain')\n",
    "plt.ylabel('Count')\n",
    "plt.title('Trm Rain')\n",
    "plt.tight_layout()\n",
    "plt.show()"
   ]
  },
  {
   "cell_type": "code",
   "execution_count": null,
   "id": "afb24963",
   "metadata": {},
   "outputs": [],
   "source": [
    "# Bar plot \n",
    "temp_counts = data['Temperature'].value_counts()\n",
    "humidity_counts = data['Humidity'].value_counts()\n",
    "\n",
    "plt.figure(figsize=(8, 4))\n",
    "plt.subplot(1, 2, 1)\n",
    "plt.bar(temp_counts.index, temp_counts.values)\n",
    "plt.xlabel('Temperature')\n",
    "plt.ylabel('Count')\n",
    "plt.title('Temperature')\n",
    "\n",
    "plt.subplot(1, 2, 2)\n",
    "plt.bar(humidity_counts.index, humidity_counts.values)\n",
    "plt.xlabel('Humidity')\n",
    "plt.ylabel('Count')\n",
    "plt.title('Humidity')\n",
    "plt.tight_layout()\n",
    "plt.show()"
   ]
  },
  {
   "cell_type": "code",
   "execution_count": null,
   "id": "5e328b8b",
   "metadata": {},
   "outputs": [],
   "source": [
    "# Bar plot \n",
    "mintemp_counts = data['Min Temp'].value_counts()\n",
    "maxtemp_counts = data['Max Temp'].value_counts()\n",
    "\n",
    "plt.figure(figsize=(8, 4))\n",
    "plt.subplot(1, 2, 1)\n",
    "plt.bar(mintemp_counts.index, mintemp_counts.values)\n",
    "plt.xlabel('Min Temp')\n",
    "plt.ylabel('Count')\n",
    "plt.title('Min Temp')\n",
    "\n",
    "plt.subplot(1, 2, 2)\n",
    "plt.bar(maxtemp_counts.index, maxtemp_counts.values)\n",
    "plt.xlabel('Max Temp')\n",
    "plt.ylabel('Count')\n",
    "plt.title('Max Temp')\n",
    "plt.tight_layout()\n",
    "plt.show()"
   ]
  },
  {
   "cell_type": "code",
   "execution_count": null,
   "id": "d41aa200",
   "metadata": {},
   "outputs": [],
   "source": [
    "# data\n",
    "rain = data['Rain']  \n",
    "trm_rain = data['Trm Rain']\n",
    "\n",
    "# Create x-axis ticks\n",
    "x_ticks = np.arange(len(rain))\n",
    "\n",
    "# Bar chart for Rain\n",
    "plt.bar(x_ticks, rain)\n",
    "plt.xlabel('Data Point')\n",
    "plt.ylabel('Rain')\n",
    "plt.title('Rain Data')\n",
    "plt.xticks(x_ticks)\n",
    "plt.show()\n",
    "\n",
    "# Bar chart for Trm Rain\n",
    "plt.bar(x_ticks, trm_rain)\n",
    "plt.xlabel('Data Point')\n",
    "plt.ylabel('Trm Rain')\n",
    "plt.title('Trm Rain Data')\n",
    "plt.xticks(x_ticks)\n",
    "plt.show()"
   ]
  },
  {
   "cell_type": "code",
   "execution_count": null,
   "id": "bb941435",
   "metadata": {},
   "outputs": [],
   "source": [
    "# data\n",
    "rain = data['Rain']  \n",
    "trm_rain = data['Trm Rain']\n",
    "\n",
    "\n",
    "# Pie chart for Rain\n",
    "plt.pie(rain, autopct='%1.1f%%')\n",
    "plt.axis('equal')\n",
    "plt.title('Rain Data')\n",
    "plt.show()\n",
    "\n",
    "# Pie chart for Trm Rain\n",
    "plt.pie(trm_rain, autopct='%1.1f%%')\n",
    "plt.axis('equal')\n",
    "plt.title('Trm Rain Data')\n",
    "plt.show()"
   ]
  },
  {
   "cell_type": "code",
   "execution_count": null,
   "id": "60a44e0e",
   "metadata": {},
   "outputs": [],
   "source": [
    "from sklearn.model_selection import GridSearchCV, cross_val_score\n",
    "from sklearn.linear_model import LogisticRegression\n",
    "from sklearn.ensemble import RandomForestClassifier\n",
    "from sklearn.svm import SVC\n",
    "from sklearn.neighbors import KNeighborsClassifier\n",
    "from sklearn.tree import DecisionTreeClassifier\n"
   ]
  },
  {
   "cell_type": "code",
   "execution_count": null,
   "id": "82d43b25",
   "metadata": {},
   "outputs": [],
   "source": [
    "####spliting dependent and independent variables in X and y\n",
    "X = data.drop('Trm Rain',axis=1)\n",
    "y = data['Trm Rain']"
   ]
  },
  {
   "cell_type": "code",
   "execution_count": null,
   "id": "76ca6de0",
   "metadata": {},
   "outputs": [],
   "source": [
    "X"
   ]
  },
  {
   "cell_type": "code",
   "execution_count": null,
   "id": "174f2461",
   "metadata": {},
   "outputs": [],
   "source": [
    "y"
   ]
  },
  {
   "cell_type": "code",
   "execution_count": null,
   "id": "f3799e5b",
   "metadata": {},
   "outputs": [],
   "source": [
    "import pickle\n",
    "with open('rain_model.pkl', 'wb') as file:\n",
    "     pickle.dump(logreg, file)"
   ]
  }
 ],
 "metadata": {
  "kernelspec": {
   "display_name": "Python 3 (ipykernel)",
   "language": "python",
   "name": "python3"
  },
  "language_info": {
   "codemirror_mode": {
    "name": "ipython",
    "version": 3
   },
   "file_extension": ".py",
   "mimetype": "text/x-python",
   "name": "python",
   "nbconvert_exporter": "python",
   "pygments_lexer": "ipython3",
   "version": "3.10.9"
  }
 },
 "nbformat": 4,
 "nbformat_minor": 5
}
